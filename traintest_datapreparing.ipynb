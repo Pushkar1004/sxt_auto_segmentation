{
 "cells": [
  {
   "cell_type": "code",
   "execution_count": 1,
   "id": "8ec725dd-f659-4a42-b3c4-1206e0523e80",
   "metadata": {},
   "outputs": [],
   "source": [
    "import tensorflow as tf\n",
    "from tensorflow.keras.models import Model\n",
    "from tensorflow.keras.layers import Input,Conv3D,MaxPooling3D,UpSampling3D,concatenate,Conv3DTranspose,BatchNormalization\n",
    "from tensorflow.keras.optimizers import Adam\n",
    "from tensorflow.keras.layers import Activation, Concatenate\n",
    "import numpy as np\n",
    "import matplotlib as mpl\n",
    "import matplotlib.pyplot as plt\n",
    "from PIL import Image \n",
    "from read_write_mrc import read_mrc, write_mrc\n",
    "import skimage \n",
    "import torch \n",
    "import torchvision as transforms \n",
    "from PIL import Image \n",
    "import os "
   ]
  },
  {
   "cell_type": "code",
   "execution_count": 2,
   "id": "7ef2c8e3-3b8f-4196-82dd-e70025f3eeea",
   "metadata": {},
   "outputs": [],
   "source": [
    "def normalisation(img):\n",
    "    norm_img = (img-img.min())/(img.max()-img.min())\n",
    "    return norm_img"
   ]
  },
  {
   "cell_type": "code",
   "execution_count": 3,
   "id": "fc13fa48-f667-4219-a3a1-3ccba8c999e6",
   "metadata": {},
   "outputs": [],
   "source": [
    "def a_hist_eq(img):\n",
    "    eq_img = skimage.exposure.equalize_adapthist(img)   \n",
    "    return eq_img\n",
    "\n",
    "def hist_eq(img):\n",
    "    eq_img = skimage.exposure.equalize_hist(img)\n",
    "    return eq_img  "
   ]
  },
  {
   "cell_type": "code",
   "execution_count": 4,
   "id": "ad12cbc8-6e74-4a5f-897f-53940e0182b1",
   "metadata": {},
   "outputs": [],
   "source": [
    "def padding(img):\n",
    "    \n",
    "    if (img.shape[1]%2 != 0):\n",
    "        pad_img = np.pad(img, pad_width= (  (int((704-img.shape[0])/2),int((704-img.shape[0])/2+1))   ,  ( int((704-img.shape[1])/2), int((704-img.shape[1])/2+1)),  ( int((704-img.shape[2])/2), int((704-img.shape[2])/2+1)  ))) \n",
    "    \n",
    "    if (img.shape[1]%2 ==0):\n",
    "        pad_img = np.pad(img, pad_width= (  (int((704-img.shape[0])/2),int((704-img.shape[0])/2+1))   ,  ( int((704-img.shape[1])/2), int((704-img.shape[1])/2)),  ( int((704-img.shape[2])/2), int((704-img.shape[2])/2+1)  )))\n",
    "    \n",
    "    return pad_img  "
   ]
  },
  {
   "cell_type": "code",
   "execution_count": 5,
   "id": "e5719a34-102a-403f-b8b0-fd4239087220",
   "metadata": {},
   "outputs": [],
   "source": [
    "def slice_mrc(img,file_name,target_location):\n",
    "    for i in range(len(img.shape)):\n",
    "        for j in range(img.shape[i]):\n",
    "            if 32*j<(img.shape[i]-63): \n",
    "                if (i ==0):\n",
    "                    im = img[32*j:32*j+64]\n",
    "                    # slices.append(im)\n",
    "                    write_mrc(target_location+'/'+(file_name[0:-4]+'_sliced_'+str(i)+str(j)+'.mrc'), im)\n",
    "                if (i ==1):\n",
    "                    im = img[:,32*j:32*j+64,:]\n",
    "                    im = np.rot90(im, axes=(1,0))\n",
    "                    # slices.append(im)\n",
    "                    write_mrc(target_location+'/'+(file_name[0:-4]+'_sliced_'+str(i)+str(j)+'.mrc'), im)\n",
    "                if (i ==2):\n",
    "                    im = img[:,:,32*j:32*j+64]\n",
    "                    im = np.rot90(im , axes = (2,0))\n",
    "                    # slices.append(im)\n",
    "                    write_mrc(target_location+'/'+(file_name[0:-4]+'_sliced_'+str(i)+str(j)+'.mrc'), im)"
   ]
  },
  {
   "cell_type": "code",
   "execution_count": 6,
   "id": "4296c9d3-03c6-47d0-9b70-d04f72f433b3",
   "metadata": {},
   "outputs": [],
   "source": [
    "def mask_crop(image, labels):\n",
    "    mask = np.where(labels != 0, np.full(labels.shape, 255), np.zeros(shape = labels.shape))\n",
    "    masked = np.where(mask == 255, img, np.zeros(shape = img.shape))\n",
    "    return (masked,labels)"
   ]
  },
  {
   "cell_type": "code",
   "execution_count": 7,
   "id": "bf084f51-3115-4f04-a0e6-01c83d1a5d17",
   "metadata": {},
   "outputs": [],
   "source": [
    "import os\n",
    "\n",
    "img_directory = 'demo_data/mrc'\n",
    "mask_directory = 'demo_data/masks'\n",
    "\n",
    "img_name_list = os.listdir(img_directory)\n",
    "mask_name_list =  os.listdir(mask_directory)\n",
    "\n",
    "\n",
    "img_name_list.sort()\n",
    "mask_name_list.sort()\n",
    "\n",
    "\n",
    "for img_name,mask_name in zip(img_name_list, mask_name_list):\n",
    "    assert str(img_name[0:-4]+str('_labels.mrc')) == str(mask_name), \"Mask doesn't match to image\"\n",
    "    \n",
    "    \n",
    "    # print(img_name[0:-4])\n",
    "    # print(mask_name[0:-4])\n",
    "    \n",
    "    # print(type(mrc_name))\n",
    "    \n",
    "    img_path = os.path.join(img_directory, img_name )\n",
    "    mask_path = os.path.join(mask_directory,mask_name)\n",
    "    \n",
    "    \n",
    "    # print(img_path)\n",
    "    # print(mask_path)\n",
    "    \n",
    "    img = read_mrc(img_path)\n",
    "    mask = read_mrc(mask_path)\n",
    "    \n",
    "    \n",
    "    assert img.shape == mask.shape, \"Mask shape does not match to image shape.\"\n",
    "    \n",
    "    img = normalisation(img)\n",
    "    \n",
    "    img = a_hist_eq(img)\n",
    "    \n",
    "    img = padding(img)\n",
    "    mask = padding(mask)\n",
    "    \n",
    "    assert img.shape == (704,704,704), \"Something error after padding\"\n",
    "    assert mask.shape == (704,704,704), \"Something error after padding\"\n",
    "    \n",
    "    img,mask = mask_crop(img,mask)\n",
    "\n",
    "#     # print(mrc_name[0:-4])\n",
    "#     # print(mask_name[0:-4])\n",
    "    slice_mrc(img.astype('float32'), img_name, 'slices/images')\n",
    "    slice_mrc(mask.astype('float32'), mask_name, 'slices/masks')"
   ]
  },
  {
   "cell_type": "code",
   "execution_count": 8,
   "id": "f1c221db-c1a7-487e-aa35-07b7d66e0624",
   "metadata": {},
   "outputs": [
    {
     "data": {
      "text/plain": [
       "(704, 704, 704)"
      ]
     },
     "execution_count": 8,
     "metadata": {},
     "output_type": "execute_result"
    }
   ],
   "source": [
    "img.shape"
   ]
  },
  {
   "cell_type": "code",
   "execution_count": null,
   "id": "584b1cba-e075-4402-8787-fdbc750c86ad",
   "metadata": {},
   "outputs": [],
   "source": []
  }
 ],
 "metadata": {
  "kernelspec": {
   "display_name": "Python 3 (ipykernel)",
   "language": "python",
   "name": "python3"
  },
  "language_info": {
   "codemirror_mode": {
    "name": "ipython",
    "version": 3
   },
   "file_extension": ".py",
   "mimetype": "text/x-python",
   "name": "python",
   "nbconvert_exporter": "python",
   "pygments_lexer": "ipython3",
   "version": "3.8.16"
  }
 },
 "nbformat": 4,
 "nbformat_minor": 5
}
